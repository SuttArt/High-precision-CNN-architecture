{
 "cells": [
  {
   "cell_type": "code",
   "execution_count": 22,
   "id": "370a0a56",
   "metadata": {},
   "outputs": [],
   "source": [
    "# Imports\n",
    "import tensorflow as tf\n",
    "from tensorflow.keras import datasets, layers, models"
   ]
  },
  {
   "cell_type": "code",
   "execution_count": 23,
   "id": "c1ae0461-c68d-4f7c-b3fb-c01736141020",
   "metadata": {},
   "outputs": [
    {
     "name": "stdout",
     "output_type": "stream",
     "text": [
      "2.10.0\n"
     ]
    }
   ],
   "source": [
    "print(tf.__version__)"
   ]
  },
  {
   "cell_type": "code",
   "execution_count": 24,
   "id": "ee7ca14a",
   "metadata": {},
   "outputs": [],
   "source": [
    "# Modell definieren\n",
    "model = models.Sequential([\n",
    "    layers.Conv2D(32, (3, 3), activation='relu', input_shape=(28, 28, 3)),  # 1. Convolution\n",
    "    layers.MaxPooling2D((2, 2)),  # 1. Pooling\n",
    "    layers.Conv2D(64, (3, 3), activation='relu'),  # 2. Convolution\n",
    "    layers.MaxPooling2D((2, 2)),  # 2. Pooling\n",
    "    layers.Flatten(),  # Flachlegen der Daten\n",
    "    layers.Dense(64, activation='relu'),  # Fully Connected Layer\n",
    "    layers.Dense(10, activation='softmax')  # Output Layer\n",
    "])"
   ]
  },
  {
   "cell_type": "code",
   "execution_count": 25,
   "id": "950509a3",
   "metadata": {},
   "outputs": [
    {
     "name": "stdout",
     "output_type": "stream",
     "text": [
      "Model: \"sequential_6\"\n",
      "_________________________________________________________________\n",
      " Layer (type)                Output Shape              Param #   \n",
      "=================================================================\n",
      " conv2d_12 (Conv2D)          (None, 26, 26, 32)        896       \n",
      "                                                                 \n",
      " max_pooling2d_12 (MaxPoolin  (None, 13, 13, 32)       0         \n",
      " g2D)                                                            \n",
      "                                                                 \n",
      " conv2d_13 (Conv2D)          (None, 11, 11, 64)        18496     \n",
      "                                                                 \n",
      " max_pooling2d_13 (MaxPoolin  (None, 5, 5, 64)         0         \n",
      " g2D)                                                            \n",
      "                                                                 \n",
      " flatten_6 (Flatten)         (None, 1600)              0         \n",
      "                                                                 \n",
      " dense_12 (Dense)            (None, 64)                102464    \n",
      "                                                                 \n",
      " dense_13 (Dense)            (None, 10)                650       \n",
      "                                                                 \n",
      "=================================================================\n",
      "Total params: 122,506\n",
      "Trainable params: 122,506\n",
      "Non-trainable params: 0\n",
      "_________________________________________________________________\n"
     ]
    }
   ],
   "source": [
    "# Zeige die Modellzusammenfassung\n",
    "model.summary()"
   ]
  },
  {
   "cell_type": "code",
   "execution_count": 7,
   "id": "cc42e373",
   "metadata": {},
   "outputs": [
    {
     "name": "stdout",
     "output_type": "stream",
     "text": [
      "Total MACs: 2528000\n"
     ]
    }
   ],
   "source": [
    "def calculate_mac(model):\n",
    "    mac = 0\n",
    "    for layer in model.layers:\n",
    "        if isinstance(layer, layers.Conv2D):\n",
    "            # MAC für Convolution Layer\n",
    "            output_shape = layer.output_shape[1:]  # (Height, Width, Channels)\n",
    "            kernel_size = layer.kernel_size  # (Kernel Height, Kernel Width)\n",
    "            input_channels = layer.input_shape[-1]\n",
    "            output_channels = layer.filters\n",
    "            mac += (kernel_size[0] * kernel_size[1] * input_channels * output_channels * output_shape[0] * output_shape[1])\n",
    "        \n",
    "        elif isinstance(layer, layers.Dense):\n",
    "            # MAC für Dense Layer\n",
    "            mac += layer.input_shape[-1] * layer.output_shape[-1]\n",
    "    \n",
    "    return mac\n",
    "\n",
    "# Berechnung der MACs\n",
    "total_mac = calculate_mac(model)\n",
    "print(f\"Total MACs: {total_mac}\")"
   ]
  },
  {
   "cell_type": "code",
   "execution_count": null,
   "id": "8224b42c-5d36-4f8f-98f2-ed79be2ea51e",
   "metadata": {},
   "outputs": [],
   "source": []
  }
 ],
 "metadata": {
  "kernelspec": {
   "display_name": "Python 3 (ipykernel)",
   "language": "python",
   "name": "python3"
  },
  "language_info": {
   "codemirror_mode": {
    "name": "ipython",
    "version": 3
   },
   "file_extension": ".py",
   "mimetype": "text/x-python",
   "name": "python",
   "nbconvert_exporter": "python",
   "pygments_lexer": "ipython3",
   "version": "3.8.18"
  }
 },
 "nbformat": 4,
 "nbformat_minor": 5
}
