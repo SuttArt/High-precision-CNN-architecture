{
 "cells": [
  {
   "cell_type": "code",
   "execution_count": 17,
   "id": "370a0a56",
   "metadata": {},
   "outputs": [],
   "source": [
    "# Imports\n",
    "import tensorflow as tf\n",
    "from tensorflow.keras.layers import (\n",
    "    Input, SeparableConv2D, Conv2D, BatchNormalization, LeakyReLU,\n",
    "    Flatten, Dense, MaxPooling2D\n",
    ")\n",
    "from tensorflow.keras.models import Model\n",
    "import numpy as np"
   ]
  },
  {
   "cell_type": "code",
   "execution_count": 18,
   "id": "c1ae0461-c68d-4f7c-b3fb-c01736141020",
   "metadata": {},
   "outputs": [
    {
     "name": "stdout",
     "output_type": "stream",
     "text": [
      "2.10.0\n"
     ]
    }
   ],
   "source": [
    "print(tf.__version__)"
   ]
  },
  {
   "cell_type": "code",
   "execution_count": 19,
   "id": "b2d40d27",
   "metadata": {},
   "outputs": [],
   "source": [
    "# Get the dataset(s)\n",
    "data = []"
   ]
  },
  {
   "cell_type": "code",
   "execution_count": 24,
   "id": "ee7ca14a",
   "metadata": {},
   "outputs": [
    {
     "name": "stdout",
     "output_type": "stream",
     "text": [
      "Model: \"EEFullCNN\"\n",
      "_________________________________________________________________\n",
      " Layer (type)                Output Shape              Param #   \n",
      "=================================================================\n",
      " Input (InputLayer)          [(None, 32, 32, 3)]       0         \n",
      "                                                                 \n",
      " separable_conv2d_28 (Separa  (None, 16, 16, 8)        59        \n",
      " bleConv2D)                                                      \n",
      "                                                                 \n",
      " batch_normalization_56 (Bat  (None, 16, 16, 8)        32        \n",
      " chNormalization)                                                \n",
      "                                                                 \n",
      " leaky_re_lu_56 (LeakyReLU)  (None, 16, 16, 8)         0         \n",
      "                                                                 \n",
      " conv2d_28 (Conv2D)          (None, 16, 16, 4)         36        \n",
      "                                                                 \n",
      " batch_normalization_57 (Bat  (None, 16, 16, 4)        16        \n",
      " chNormalization)                                                \n",
      "                                                                 \n",
      " leaky_re_lu_57 (LeakyReLU)  (None, 16, 16, 4)         0         \n",
      "                                                                 \n",
      " separable_conv2d_29 (Separa  (None, 8, 8, 16)         216       \n",
      " bleConv2D)                                                      \n",
      "                                                                 \n",
      " batch_normalization_58 (Bat  (None, 8, 8, 16)         64        \n",
      " chNormalization)                                                \n",
      "                                                                 \n",
      " leaky_re_lu_58 (LeakyReLU)  (None, 8, 8, 16)          0         \n",
      "                                                                 \n",
      " conv2d_29 (Conv2D)          (None, 8, 8, 8)           136       \n",
      "                                                                 \n",
      " batch_normalization_59 (Bat  (None, 8, 8, 8)          32        \n",
      " chNormalization)                                                \n",
      "                                                                 \n",
      " leaky_re_lu_59 (LeakyReLU)  (None, 8, 8, 8)           0         \n",
      "                                                                 \n",
      " separable_conv2d_30 (Separa  (None, 4, 4, 20)         948       \n",
      " bleConv2D)                                                      \n",
      "                                                                 \n",
      " batch_normalization_60 (Bat  (None, 4, 4, 20)         80        \n",
      " chNormalization)                                                \n",
      "                                                                 \n",
      " leaky_re_lu_60 (LeakyReLU)  (None, 4, 4, 20)          0         \n",
      "                                                                 \n",
      " conv2d_30 (Conv2D)          (None, 4, 4, 12)          252       \n",
      "                                                                 \n",
      " batch_normalization_61 (Bat  (None, 4, 4, 12)         48        \n",
      " chNormalization)                                                \n",
      "                                                                 \n",
      " leaky_re_lu_61 (LeakyReLU)  (None, 4, 4, 12)          0         \n",
      "                                                                 \n",
      " separable_conv2d_31 (Separa  (None, 2, 2, 32)         3968      \n",
      " bleConv2D)                                                      \n",
      "                                                                 \n",
      " batch_normalization_62 (Bat  (None, 2, 2, 32)         128       \n",
      " chNormalization)                                                \n",
      "                                                                 \n",
      " leaky_re_lu_62 (LeakyReLU)  (None, 2, 2, 32)          0         \n",
      "                                                                 \n",
      " conv2d_31 (Conv2D)          (None, 2, 2, 16)          528       \n",
      "                                                                 \n",
      " batch_normalization_63 (Bat  (None, 2, 2, 16)         64        \n",
      " chNormalization)                                                \n",
      "                                                                 \n",
      " leaky_re_lu_63 (LeakyReLU)  (None, 2, 2, 16)          0         \n",
      "                                                                 \n",
      " flatten_10 (Flatten)        (None, 64)                0         \n",
      "                                                                 \n",
      " FinalOutput (Dense)         (None, 3)                 195       \n",
      "                                                                 \n",
      "=================================================================\n",
      "Total params: 6,802\n",
      "Trainable params: 6,570\n",
      "Non-trainable params: 232\n",
      "_________________________________________________________________\n"
     ]
    }
   ],
   "source": [
    "# Set up CNN using tensorflow\n",
    "def build_full_cnn_with_early_exit():\n",
    "    input_layer = Input(shape=(32, 32, 3), name=\"Input\")\n",
    "\n",
    "    # Layer 1: SeparableConv2D\n",
    "    x = SeparableConv2D(8, kernel_size=(3, 3), strides=(2, 2), padding=\"same\", depth_multiplier=1)(input_layer)\n",
    "    x = BatchNormalization()(x)\n",
    "    x = LeakyReLU()(x)\n",
    "\n",
    "    # Early Exit Branch\n",
    "    #ee_x = MaxPooling2D(pool_size=(2, 2))(x)\n",
    "    #ee_x = Flatten()(ee_x)\n",
    "    #ee_output = Dense(1, activation=\"sigmoid\", name=\"EarlyExitOutput\")(ee_x)\n",
    "\n",
    "    # Main Network Continues\n",
    "    # Layer 2: Conv2D   (3*3*8+1)*4\n",
    "    x = Conv2D(4, kernel_size=(1, 1), strides=(1, 1), padding=\"same\")(x)\n",
    "    x = BatchNormalization()(x)\n",
    "    x = LeakyReLU()(x)\n",
    "\n",
    "    # Layer 3: SeparableConv2D\n",
    "    x = SeparableConv2D(16, kernel_size=(3, 3), strides=(2, 2), padding=\"same\", depth_multiplier=2)(x)\n",
    "    x = BatchNormalization()(x)\n",
    "    x = LeakyReLU()(x)\n",
    "\n",
    "    # Layer 4: Conv2D\n",
    "    x = Conv2D(8, kernel_size=(1, 1), strides=(1, 1), padding=\"same\")(x)\n",
    "    x = BatchNormalization()(x)\n",
    "    x = LeakyReLU()(x)\n",
    "\n",
    "    # Layer 5: SeparableConv2D\n",
    "    x = SeparableConv2D(20, kernel_size=(3, 3), strides=(2, 2), padding=\"same\", depth_multiplier=4)(x)\n",
    "    x = BatchNormalization()(x)\n",
    "    x = LeakyReLU()(x)\n",
    "\n",
    "    # Layer 6: Conv2D\n",
    "    x = Conv2D(12, kernel_size=(1, 1), strides=(1, 1), padding=\"same\")(x)\n",
    "    x = BatchNormalization()(x)\n",
    "    x = LeakyReLU()(x)\n",
    "\n",
    "    # Layer 7: SeparableConv2D\n",
    "    x = SeparableConv2D(32, kernel_size=(3, 3), strides=(2, 2), padding=\"same\", depth_multiplier=8)(x)\n",
    "    x = BatchNormalization()(x)\n",
    "    x = LeakyReLU()(x)\n",
    "\n",
    "    # Layer 8: Conv2D\n",
    "    x = Conv2D(16, kernel_size=(1, 1), strides=(1, 1), padding=\"same\")(x)\n",
    "    x = BatchNormalization()(x)\n",
    "    x = LeakyReLU()(x)\n",
    "\n",
    "    # Fully Connected Layer\n",
    "    x = Flatten()(x)\n",
    "    final_output = Dense(3, activation=\"softmax\", name=\"FinalOutput\")(x)\n",
    "\n",
    "    model = Model(inputs=input_layer, outputs=[final_output], name=\"EEFullCNN\") # outputs=[final_output, ee_output]\n",
    "    return model\n",
    "\n",
    "ee_full_cnn = build_full_cnn_with_early_exit()\n",
    "ee_full_cnn.summary()"
   ]
  },
  {
   "cell_type": "code",
   "execution_count": 11,
   "id": "950509a3",
   "metadata": {},
   "outputs": [],
   "source": [
    "# Training + Validation"
   ]
  },
  {
   "cell_type": "code",
   "execution_count": 12,
   "id": "cc42e373",
   "metadata": {},
   "outputs": [],
   "source": [
    "# Testing"
   ]
  }
 ],
 "metadata": {
  "kernelspec": {
   "display_name": "Python 3 (ipykernel)",
   "language": "python",
   "name": "python3"
  },
  "language_info": {
   "codemirror_mode": {
    "name": "ipython",
    "version": 3
   },
   "file_extension": ".py",
   "mimetype": "text/x-python",
   "name": "python",
   "nbconvert_exporter": "python",
   "pygments_lexer": "ipython3",
   "version": "3.8.18"
  }
 },
 "nbformat": 4,
 "nbformat_minor": 5
}
